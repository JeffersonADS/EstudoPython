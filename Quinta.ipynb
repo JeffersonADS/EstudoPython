{
  "nbformat": 4,
  "nbformat_minor": 0,
  "metadata": {
    "colab": {
      "provenance": [],
      "authorship_tag": "ABX9TyPUTQBKrwV5GeBGKxsVXfbI",
      "include_colab_link": true
    },
    "kernelspec": {
      "name": "python3",
      "display_name": "Python 3"
    },
    "language_info": {
      "name": "python"
    }
  },
  "cells": [
    {
      "cell_type": "markdown",
      "metadata": {
        "id": "view-in-github",
        "colab_type": "text"
      },
      "source": [
        "<a href=\"https://colab.research.google.com/github/JeffersonADS/EstudoPython/blob/main/Quinta.ipynb\" target=\"_parent\"><img src=\"https://colab.research.google.com/assets/colab-badge.svg\" alt=\"Open In Colab\"/></a>"
      ]
    },
    {
      "cell_type": "code",
      "execution_count": null,
      "metadata": {
        "colab": {
          "base_uri": "https://localhost:8080/"
        },
        "id": "FJPLwRvXfsi5",
        "outputId": "732a110f-914e-4d1f-c290-82b75b572ecf"
      },
      "outputs": [
        {
          "output_type": "stream",
          "name": "stdout",
          "text": [
            "Digite os metros: 100\n",
            "Deu 10000.0\n"
          ]
        }
      ],
      "source": [
        "#5\n",
        "\n",
        "metros = float(input(\"Digite os metros: \"))\n",
        "\n",
        "centimetros = metros * 100\n",
        "\n",
        "print(f\"Deu {centimetros} centimetros\")"
      ]
    },
    {
      "cell_type": "code",
      "source": [
        "#6\n",
        "\n",
        "raio_cm = float(input(\"Digite os raios do circulo: \"))\n",
        "\n",
        "area = 3.14 * (raio_cm **2)\n",
        "\n",
        "print(f\"Sua área é: {area} m²\")"
      ],
      "metadata": {
        "colab": {
          "base_uri": "https://localhost:8080/"
        },
        "id": "k5Ub5sgAhmWj",
        "outputId": "0250b178-3501-4330-bbd6-29a571ee0d91"
      },
      "execution_count": null,
      "outputs": [
        {
          "output_type": "stream",
          "name": "stdout",
          "text": [
            "Digite os raios do circulo: 100\n",
            "Sua área é: 31400.0\n"
          ]
        }
      ]
    },
    {
      "cell_type": "code",
      "source": [
        "#7\n",
        "\n",
        "altura_quadrado = float(input(\"A altura do seu quadrado: \"))\n",
        "\n",
        "area = 2 * (altura_quadrado * 2)\n",
        "\n",
        "print(f\"Aqui está a área dobrada do seu quadrado {area}\")\n"
      ],
      "metadata": {
        "colab": {
          "base_uri": "https://localhost:8080/"
        },
        "id": "CdBox1nkidtj",
        "outputId": "2f668fb1-016d-4b81-8ce7-2b1904b869a2"
      },
      "execution_count": null,
      "outputs": [
        {
          "output_type": "stream",
          "name": "stdout",
          "text": [
            "A altura do seu quadrado: 100\n",
            "Aqui está a área dobrada do seu quadrado 400.0\n"
          ]
        }
      ]
    },
    {
      "cell_type": "code",
      "source": [
        "#8\n",
        "\n",
        "ganho_hora = float(input(\"Ganho por hora: \"))\n",
        "horas_mensais = float(input(\"Horas trabalhadas por mês: \"))\n",
        "\n",
        "ganho_mensal = (ganho_hora * horas_mensais)\n",
        "\n",
        "print(f\"Você ganha {ganho_mensal} reais por mês\")"
      ],
      "metadata": {
        "colab": {
          "base_uri": "https://localhost:8080/"
        },
        "id": "uUwvpNVrkUz8",
        "outputId": "f55a843f-2b75-432a-d394-620b19ea0c70"
      },
      "execution_count": null,
      "outputs": [
        {
          "output_type": "stream",
          "name": "stdout",
          "text": [
            "Ganho por hora: 10\n",
            "Horas trabalhadas por mês: 10\n",
            "Você ganha 100.0 reais por mês\n"
          ]
        }
      ]
    },
    {
      "cell_type": "code",
      "source": [
        "#9\n",
        "\n",
        "temperatura_farenheit = float(input(\"Digite a temperatura em Farenheit: \"))\n",
        "\n",
        "temperatura_celsius = (5 * (temperatura_farenheit-32) / 9)\n",
        "\n",
        "print(f\"Sua temperatura em graus celsius é {temperatura_celsius}\")"
      ],
      "metadata": {
        "colab": {
          "base_uri": "https://localhost:8080/"
        },
        "id": "Q2kufqGqnu6U",
        "outputId": "566fdcf3-7571-467e-fa26-1bdc7e9f963d"
      },
      "execution_count": null,
      "outputs": [
        {
          "output_type": "stream",
          "name": "stdout",
          "text": [
            "Digite a temperatura em Farenheit: 100\n",
            "Sua temperatura em graus celsius é 37.77777777777778\n"
          ]
        }
      ]
    },
    {
      "cell_type": "code",
      "source": [
        "#10\n",
        "\n",
        "temperatura_celsius = float(input(\"Digite a temperatura em celsius: \"))\n",
        "\n",
        "temperatura_farenheit = (temperatura_celsius * 1.8) + 32\n",
        "\n",
        "print(f\"Sua temperatura em graus farenheit é {temperatura_farenheit}\")"
      ],
      "metadata": {
        "colab": {
          "base_uri": "https://localhost:8080/"
        },
        "id": "SLwkjrPto6m9",
        "outputId": "8b0d7d94-9b91-4b81-f207-9d98f181d79d"
      },
      "execution_count": null,
      "outputs": [
        {
          "output_type": "stream",
          "name": "stdout",
          "text": [
            "Digite a temperatura em celsius: 100\n",
            "Sua temperatura em graus farenheit é 212.0\n"
          ]
        }
      ]
    },
    {
      "cell_type": "code",
      "source": [
        "#11\n",
        "\n",
        "inteiro = int(input(\"Digite o primeiro número inteiro: \"))\n",
        "inteiro1 = int(input(\"Digite o segundo número inteiro: \"))\n",
        "real = float(input(\"Digite um número real: \"))\n",
        "\n",
        "p1 = (inteiro *2) + (inteiro1 / 2)\n",
        "p2 = (inteiro *3) + real\n",
        "p3 = real **3\n",
        "\n",
        "print(f\"Seu primeiro resultado deu {p1}. Seu segundo resultado deu {p2}. E seu terceiro resultado deu {p3}\")"
      ],
      "metadata": {
        "colab": {
          "base_uri": "https://localhost:8080/"
        },
        "id": "VHaB1V5HqOJ2",
        "outputId": "ca2b4863-9f0a-48ec-b2c4-784c493bc75f"
      },
      "execution_count": null,
      "outputs": [
        {
          "output_type": "stream",
          "name": "stdout",
          "text": [
            "Digite o primeiro número inteiro: 10\n",
            "Digite o segundo número inteiro: 10\n",
            "Digite um número real: 10\n",
            "Seu primeiro resultado deu 25.0. Seu segundo resultado deu 40.0. E seu terceiro resultado deu 1000.0\n"
          ]
        }
      ]
    },
    {
      "cell_type": "code",
      "source": [
        "#12\n",
        "\n",
        "altura = float(input(\"Digite sua altura: \"))\n",
        "\n",
        "peso_ideal = (72.7 * altura) - 58\n",
        "\n",
        "print(f\"Seu peso ideal é {peso_ideal}\")"
      ],
      "metadata": {
        "colab": {
          "base_uri": "https://localhost:8080/"
        },
        "id": "40dxfWV2ul8A",
        "outputId": "243fac11-c3c9-4bff-a632-7fe574578da1"
      },
      "execution_count": null,
      "outputs": [
        {
          "output_type": "stream",
          "name": "stdout",
          "text": [
            "Digite sua altura: 1.90\n",
            "Seu peso ideal é 80.13\n"
          ]
        }
      ]
    },
    {
      "cell_type": "code",
      "source": [],
      "metadata": {
        "id": "JKFuNZYgwgkX"
      },
      "execution_count": null,
      "outputs": []
    }
  ]
}